{
 "cells": [
  {
   "cell_type": "markdown",
   "metadata": {},
   "source": [
    "## <font color=\"red\" > afficher des listes sous la forme d'un tableau <font>  "
   ]
  },
  {
   "cell_type": "markdown",
   "metadata": {},
   "source": [
    "Lorsque qu'on affiche des listes pour vérifier la cohérence des valeurs, l'affichage proposé n'est pas satisfaisant. le programme ci dessous permet d'optimiser cet affichage."
   ]
  },
  {
   "cell_type": "code",
   "execution_count": 3,
   "metadata": {
    "scrolled": true
   },
   "outputs": [
    {
     "name": "stdout",
     "output_type": "stream",
     "text": [
      "['Lincoln', 'Roosevelt', 'Obama'] ['Abraham', 'Franklin', 'Barack']\n"
     ]
    }
   ],
   "source": [
    "# Affichage classique\n",
    "nom = [\"Lincoln\",\"Roosevelt\", \"Obama\" ]\n",
    "prenom = [\"Abraham\", \"Franklin\", \"Barack\"]\n",
    "print(nom,prenom)"
   ]
  },
  {
   "cell_type": "code",
   "execution_count": 6,
   "metadata": {},
   "outputs": [
    {
     "name": "stdout",
     "output_type": "stream",
     "text": [
      "nom                      prénom                   \n",
      "Lincoln                  Abraham                  \n",
      "Roosevelt                Franklin                 \n",
      "Obama                    Barack                   \n"
     ]
    }
   ],
   "source": [
    "# Affichage amélioré\n",
    "nom = [\"Lincoln\",\"Roosevelt\", \"Obama\" ]\n",
    "prenom = [\"Abraham\", \"Franklin\", \"Barack\"]\n",
    "\n",
    "\n",
    "tab=[[\"nom\", \"prénom\"]] # on crée l'entête\n",
    "\n",
    "for i in range (len(nom)) :\n",
    "    tab.append([nom[i], prenom[i]])# on ajoute les données des listes dans les deux colonnes du tableau\n",
    "\n",
    "form=\"{0:25}{1:25}\" # on choisit la largeur des colonnes\n",
    "for val in tab:\n",
    "     print (form.format(*val)) # on crée la boucle permettant d'afficher le tableau"
   ]
  },
  {
   "cell_type": "code",
   "execution_count": null,
   "metadata": {},
   "outputs": [],
   "source": []
  }
 ],
 "metadata": {
  "kernelspec": {
   "display_name": "Python 3",
   "language": "python",
   "name": "python3"
  },
  "language_info": {
   "codemirror_mode": {
    "name": "ipython",
    "version": 3
   },
   "file_extension": ".py",
   "mimetype": "text/x-python",
   "name": "python",
   "nbconvert_exporter": "python",
   "pygments_lexer": "ipython3",
   "version": "3.7.3"
  }
 },
 "nbformat": 4,
 "nbformat_minor": 2
}
