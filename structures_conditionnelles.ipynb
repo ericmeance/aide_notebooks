{
 "cells": [
  {
   "cell_type": "markdown",
   "metadata": {},
   "source": [
    "###  <span style=\"color:red\">structures conditionnelles</span>\n",
    "Dans ce noteboook, nous allons étudier et comprendre l’intérêt des structures de contrôle en Python. Une structure de contrôle est un ensemble d’instructions qui permet de contrôler l’exécution du code.\n",
    "\n",
    "Il existe différents types de structures de contrôle. Les deux types de structures les plus communément utilisées sont les structures de contrôle conditionnelles qui permettent d’exécuter un bloc de code si une certaine condition est vérifiée et les structures de contrôle de boucle qui permettent d’exécuter un bloc de code en boucle tant qu’une condition est vérifiée. "
   ]
  },
  {
   "cell_type": "markdown",
   "metadata": {},
   "source": [
    "###  <span style=\"color:blue\">Présentation des conditions Python</span>\n",
    "\n",
    "Les structures de contrôle conditionnelles (ou plus simplement conditions) vont nous permettre d’exécuter différents blocs de code selon qu’une condition spécifique soit vérifiée ou pas.\n",
    "\n",
    "Nous allons très souvent utiliser les conditions avec des variables : selon la valeur stockée dans une variable, nous allons vouloir exécuter un bloc de code plutôt qu’un autre.\n",
    "\n",
    "Python nous fournit les structures conditionnelles suivantes :\n",
    "\n",
    "+ La condition if (“si”) ;\n",
    "+ La condition if…else (“si…sinon”) ;\n",
    "+ La condition if…elif…else (“si…sinon si… sinon”) .\n",
    "\n",
    "Avant de les étudier, cependant, il faut connaître un nouveau type d’opérateurs : les opérateurs de comparaison qui vont être au centre de nos conditions.\n",
    "\n",
    "Voici ci-dessous les différents opérateurs de comparaison disponibles en Python ainsi que leur signification :\n",
    "Opérateurs de comparaison :\n",
    "\n",
    "    == : égalité (pour des nombres ou des chaînes).\n",
    "    != : inégalité (pour des nombres ou des chaînes).\n",
    "    > >= < <= : comparaison\n",
    "    is, is not permettent de comparer l'identité des objets (voir ci-dessous).\n",
    "\n"
   ]
  },
  {
   "cell_type": "markdown",
   "metadata": {},
   "source": [
    "On demande à Python de tester si telle valeur est supérieure, égale, inférieur ou différente à telle autre valeur. Python va donc comparer les deux valeurs et toujours renvoyer un booléen : True si la comparaison est vérifiée ou False dans le cas contraire. Tester les programmmes suivants :"
   ]
  },
  {
   "cell_type": "code",
   "execution_count": 1,
   "metadata": {},
   "outputs": [
    {
     "data": {
      "text/plain": [
       "False"
      ]
     },
     "execution_count": 1,
     "metadata": {},
     "output_type": "execute_result"
    }
   ],
   "source": [
    "4 ==5"
   ]
  },
  {
   "cell_type": "code",
   "execution_count": null,
   "metadata": {},
   "outputs": [],
   "source": [
    "6<2"
   ]
  },
  {
   "cell_type": "code",
   "execution_count": null,
   "metadata": {},
   "outputs": [],
   "source": [
    "5<8"
   ]
  },
  {
   "cell_type": "code",
   "execution_count": null,
   "metadata": {},
   "outputs": [],
   "source": [
    "4!=\"4\""
   ]
  },
  {
   "cell_type": "markdown",
   "metadata": {},
   "source": [
    "###  <span style=\"color:blue\">La condition if en Python</span>\n",
    "\n",
    "La structure conditionnelle if est une structure de base qu’on retourne dans de nombreux langages de script. Cette condition va nous permettre d’exécuter un code si (et seulement si) une certaine condition est vérifiée.\n",
    "\n",
    "On va en fait passer une expression à cette condition qui va être évaluée par Python. Cette expression sera souvent une comparaison explicite (une comparaison utilisant les opérateurs de comparaison) mais pas nécessairement.\n",
    "\n",
    "Si Python évalue l’expression passée à True, le code dans la condition if sera exécuté. Dans le cas contraire, le code dans if sera ignoré.\n",
    "\n",
    "Prenons un premier exemple afin de nous familiariser avec le fonctionnement et la syntaxe de cette condition : copier ce code, le coller  dans Mu et le flasher sur la carte microbit.\n",
    "Pour le relancer,appuyer sur le bouton à l'arrière de la carte."
   ]
  },
  {
   "cell_type": "code",
   "execution_count": 5,
   "metadata": {},
   "outputs": [],
   "source": [
    "# programme 1\n",
    "\n",
    "from random import randint\n",
    "a=randint(0,10) \n",
    "if a<5:\n",
    "    print(\"gagné\")"
   ]
  },
  {
   "cell_type": "markdown",
   "metadata": {},
   "source": [
    "Sur un <span style=\"color:green\">compte rendu numérique</span>, indiquer le titre de la séquence , copier le code ci dessus et indiquer ce que signifie les 3 premières lignes."
   ]
  },
  {
   "cell_type": "markdown",
   "metadata": {},
   "source": [
    "###  <span style=\"color:blue\">La condition if… else en Python</span>\n",
    "\n",
    "Avec la condition if, nous restons relativement limités puisque cette condition nous permet seulement d’exécuter un bloc de code si que le résultat d’un test soit évalué à True.\n",
    "\n",
    "La structure conditionnelle if…else (« si… sinon » en français) est plus complète que la condition if puisqu’elle nous permet d’exécuter un premier bloc de code si un test renvoie True ou un autre bloc de code dans le cas contraire.\n",
    "\n",
    "La syntaxe d’une condition if…else va être la suivante :"
   ]
  },
  {
   "cell_type": "code",
   "execution_count": null,
   "metadata": {},
   "outputs": [],
   "source": [
    "# programme 2\n",
    "from microbit import *\n",
    "from random import randint\n",
    "a=randint(0,10) \n",
    "if a<5:\n",
    "    display.show(Image.SMILE)\n",
    "else:\n",
    "    display.show(Image.DIAMOND)"
   ]
  },
  {
   "cell_type": "markdown",
   "metadata": {},
   "source": [
    "Sur le <span style=\"color:green\">compte rendu numérique</span>, copier le code ci dessus et indiquer ce que fait ce programme"
   ]
  },
  {
   "cell_type": "markdown",
   "metadata": {},
   "source": [
    "###  <span style=\"color:blue\">La condition if… elif… else en Python</span>\n",
    "\n",
    "La condition if…elif…else (« si…sinon si…sinon ») est une structure conditionnelle encore plus complète que la condition if…else qui vannons permettre cette fois-ci d’effectuer autant de tests que l’on souhaite et ainsi de prendre en compte le nombre de cas souhaité.\n",
    "\n",
    "En effet, nous allons pouvoir ajouter autant de elif que l’on souhaite entre le if de départ et le else de fin et chaque elif va pouvoir posséder son propre test ce qui va nous permettre d’apporter des réponses très précises à différentes situations. "
   ]
  },
  {
   "cell_type": "code",
   "execution_count": 5,
   "metadata": {},
   "outputs": [
    {
     "name": "stdout",
     "output_type": "stream",
     "text": [
      "c'est l'age adulte\n"
     ]
    }
   ],
   "source": [
    "\n",
    "from random import randint\n",
    "a=randint(0,100) \n",
    "\n",
    "if a<13:\n",
    "    print(\"c'est l'enfance\")\n",
    "elif a>= 13 and a<18 :\n",
    "     print(\"c'est l'adolescence\")\n",
    "\n",
    "elif a>= 18 and a<=65 :\n",
    "     print(\"c'est l'age adulte\")        \n",
    "else:print(\"c'est la retraite\")"
   ]
  },
  {
   "cell_type": "markdown",
   "metadata": {},
   "source": [
    "Variante :"
   ]
  },
  {
   "cell_type": "code",
   "execution_count": 9,
   "metadata": {},
   "outputs": [
    {
     "name": "stdout",
     "output_type": "stream",
     "text": [
      "c'est la retraite\n",
      "16 False True False\n"
     ]
    },
    {
     "data": {
      "text/plain": [
       "bool"
      ]
     },
     "execution_count": 9,
     "metadata": {},
     "output_type": "execute_result"
    }
   ],
   "source": [
    "from random import randint\n",
    "a=randint(0,100) \n",
    "b= a<13\n",
    "c= a>= 13 and a<18\n",
    "d= a>= 18 and a<=65\n",
    "\n",
    "if b:\n",
    "    print(\"c'est l'enfance\")\n",
    "elif b:\n",
    "     print(\"c'est l'adolescence\")\n",
    "\n",
    "elif d :\n",
    "     print(\"c'est l'age adulte\")        \n",
    "else:print(\"c'est la retraite\")\n",
    "    \n",
    "print(a,b,c,d)\n",
    "type(b)"
   ]
  },
  {
   "cell_type": "markdown",
   "metadata": {},
   "source": [
    "a,b,c sont des booléens. Ils ont deux valeurs possibles : False ou True"
   ]
  },
  {
   "cell_type": "markdown",
   "metadata": {},
   "source": [
    "####  <span style=\"color: MediumPurple\">Exercice 1 </span>\n",
    "Demander une valeur de pH entre 0 et 14.\n",
    "Afficher ensuite avec des conditions si c'est acide , basique ou neutre."
   ]
  },
  {
   "cell_type": "code",
   "execution_count": null,
   "metadata": {},
   "outputs": [],
   "source": []
  }
 ],
 "metadata": {
  "kernelspec": {
   "display_name": "Python 3",
   "language": "python",
   "name": "python3"
  },
  "language_info": {
   "codemirror_mode": {
    "name": "ipython",
    "version": 3
   },
   "file_extension": ".py",
   "mimetype": "text/x-python",
   "name": "python",
   "nbconvert_exporter": "python",
   "pygments_lexer": "ipython3",
   "version": "3.7.3"
  }
 },
 "nbformat": 4,
 "nbformat_minor": 2
}
