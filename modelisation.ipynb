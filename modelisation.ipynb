{
 "cells": [
  {
   "cell_type": "markdown",
   "metadata": {},
   "source": [
    "## <font color=\"blue\" >Modélisation d'une courbe polynomiale <font>\n",
    "   "
   ]
  },
  {
   "cell_type": "markdown",
   "metadata": {},
   "source": [
    "On doit importer une nouvelle bibliothèque : **numpy**  \n",
    "On utilise ensuite la fonction **polyfit**.  \n",
    "Cette fonction permet de modéliser la courbe polynomiale. \n",
    "On peut alors récupérer les coefficients pour tracer la courbe de modélisation"
   ]
  },
  {
   "cell_type": "code",
   "execution_count": 7,
   "metadata": {},
   "outputs": [
    {
     "data": {
      "image/png": "[encoded data removed]",
      "text/plain": [
       "<Figure size 432x288 with 1 Axes>"
      ]
     },
     "metadata": {
      "needs_background": "light"
     },
     "output_type": "display_data"
    },
    {
     "name": "stdout",
     "output_type": "stream",
     "text": [
      "22\n"
     ]
    }
   ],
   "source": [
    "import matplotlib.pyplot as plt\n",
    "from math import *\n",
    "from numpy import*\n",
    "\n",
    "\n",
    "x = [0.370193, 0.450013, 0.539223, 0.633129, 0.712949, 0.80216, 0.896066, 0.980581, 1.07449, 1.1637, 1.23882, 1.34212, 1.40785, 1.50645, 1.58627, 1.67548, 1.7553, 1.83512, 1.92903, 2.01355, 2.09806, 2.18258]\n",
    "\n",
    "y = [1.24704, 1.35973, 1.44894, 1.52406, 1.5851, 1.62736, 1.64145, 1.63675, 1.64145, 1.60858, 1.56632, 1.50059, 1.43485, 1.34564, 1.22826, 1.11088, 0.97941, 0.815074, 0.655434, 0.481708, 0.279811, 0.0591317]\n",
    "\n",
    "\n",
    "Modele = polyfit(x,y,2) # le 2 indique qu'on penche pour un polynome de degré 2\n",
    "\n",
    "a,b,c = [coef for coef in Modele] # permet de récupérer les coefficients du type ax² +bx+c\n",
    "\n",
    "\n",
    "x_mod=[] # on crée les listes vides pour les coordonnées du polynome\n",
    "y_mod = []\n",
    "\n",
    "for i in range (len(x)) :# on crée des listes avec autant de valeurs que les listes initiales.\n",
    "    x_mod.append(min(x) + i*(max(x)-min(x))/len(x)) # on définit les valeurs des abscisses en se basant sur le max et le min des valeurs de pointage\n",
    "    y_mod.append(a*x_mod[i]**2+ +b*x_mod[i]+c) # on calcule l'ordonnée avec les coefficients du polynome\n",
    "   \n",
    "    \n",
    "plt.plot(x_mod,y_mod,'r+',ms=5.) # tracé des points, ms détermine la taille des marqueurs.\n",
    "plt.xlim(min(y_mod)-max(y_mod)/10, max(y_mod)+max(y_mod)/10)  # on délimite les valeurs min et max de l'axe des abscisses\n",
    "plt.axis('equal')\n",
    "plt.show()\n",
    "print(len(x))\n"
   ]
  },
  {
   "cell_type": "code",
   "execution_count": null,
   "metadata": {},
   "outputs": [],
   "source": []
  }
 ],
 "metadata": {
  "kernelspec": {
   "display_name": "Python 3",
   "language": "python",
   "name": "python3"
  },
  "language_info": {
   "codemirror_mode": {
    "name": "ipython",
    "version": 3
   },
   "file_extension": ".py",
   "mimetype": "text/x-python",
   "name": "python",
   "nbconvert_exporter": "python",
   "pygments_lexer": "ipython3",
   "version": "3.7.3"
  }
 },
 "nbformat": 4,
 "nbformat_minor": 2
}
