{
 "cells": [
  {
   "cell_type": "markdown",
   "metadata": {},
   "source": [
    "# <div class=\"alert alert-info\" role=\"alert\"> <center> Séries de données</center> "
   ]
  },
  {
   "cell_type": "markdown",
   "metadata": {},
   "source": [
    "Dans de nombreux Tp, nous aurons des séries de mesures à traiter. Ces mesures, en langage python, peuvent être rentrées dans des listes ou des tableaux. Ce sont ces deux objets qui sont décrits sommairement dans cette aide."
   ]
  },
  {
   "cell_type": "markdown",
   "metadata": {},
   "source": [
    "# <div class=\"alert alert-success\">Partie 1 : Listes ou tableaux</div>"
   ]
  },
  {
   "cell_type": "markdown",
   "metadata": {},
   "source": [
    "### <font color=\"blue\" > Les listes <font>  \n"
   ]
  },
  {
   "cell_type": "code",
   "execution_count": 18,
   "metadata": {},
   "outputs": [
    {
     "name": "stdout",
     "output_type": "stream",
     "text": [
      "[0, 1.5, 3.1, 4.0, 4.95, 6.04]\n"
     ]
    }
   ],
   "source": [
    "U = [0,1.5,3.1,4.0,4.95,6.04]\n",
    "print(U)"
   ]
  },
  {
   "cell_type": "markdown",
   "metadata": {},
   "source": [
    "Ci dessus, U est une liste de valeurs. On la déclare entre crochets. Chaque valeur est séparée des autres avec une virgule et ces valeurs, si elles sont décimales s'écrivent avec un point."
   ]
  },
  {
   "cell_type": "markdown",
   "metadata": {},
   "source": [
    "### <font color=\"blue\" > Les tableaux numpy<font>  "
   ]
  },
  {
   "cell_type": "code",
   "execution_count": 19,
   "metadata": {},
   "outputs": [
    {
     "name": "stdout",
     "output_type": "stream",
     "text": [
      "[0.   1.5  3.1  4.   4.95 6.04]\n",
      "[0.   1.5  3.1  4.   4.95 6.04]\n"
     ]
    }
   ],
   "source": [
    "import numpy as np\n",
    "U1 = np.array([0,1.5,3.1,4.0,4.95,6.04])\n",
    "U2=np.array(U)\n",
    "print(U1)\n",
    "print(U2)"
   ]
  },
  {
   "cell_type": "markdown",
   "metadata": {},
   "source": [
    "U1 est un tableau numpy créé à partir d'une liste. Soit on tape  les valeurs(U1), soit on crée le tableau à partir d'une liste existante. La création d'un tableau numpy est un peu plus complexe mais ce tableau est plus facile à manipuler"
   ]
  },
  {
   "cell_type": "markdown",
   "metadata": {},
   "source": [
    "# <div class=\"alert alert-success\">Partie 2 : manipuler les listes ou les tableaux.</div>"
   ]
  },
  {
   "cell_type": "markdown",
   "metadata": {},
   "source": [
    "    On sera souvent amener à créer une série de valeurs à partir d'une série ou plusieurs séries déjà existantes"
   ]
  },
  {
   "cell_type": "markdown",
   "metadata": {},
   "source": [
    "### <font color=\"blue\" > manipuler les listes.<font>  \n"
   ]
  },
  {
   "cell_type": "code",
   "execution_count": 20,
   "metadata": {},
   "outputs": [
    {
     "name": "stdout",
     "output_type": "stream",
     "text": [
      "[0.0, 0.0075, 0.0155, 0.02, 0.02475, 0.0302]\n"
     ]
    }
   ],
   "source": [
    "I = []# on crée une liste vide\n",
    "R = 200\n",
    "for i in range (len(U)):# la boucle permet de créer une valeur de i pour chaque valeur de u\n",
    "    I.append(U[i]/R)\n",
    "print(I)"
   ]
  },
  {
   "cell_type": "markdown",
   "metadata": {},
   "source": [
    "* Ligne 1 : on crée une liste vide\n",
    "* Ligne 3 : on fait une boucle permettant de créer une valeur de I pour chaque valeur de U. len(u) renvoit le nombre de valeurs de U. Cela veut dire qu'on fait autant de tours de boucles qu'il y a de valeurs de U. I et u auront donc bien le même nombre de valeurs\n",
    "* ligne 4 : la méthode append ajoute à la liste I, la valeur calculée entre parenthèses. Au premier tour, i prend la valeur 0 avec U[0] = 0"
   ]
  },
  {
   "cell_type": "code",
   "execution_count": null,
   "metadata": {},
   "outputs": [],
   "source": [
    "U4 =[1,2,3,4,5,6,7]\n",
    "U5=[]\n",
    "for i in range (len(U4)):# la boucle permet de créer une valeur de i pour chaque valeur de u\n",
    "    U5.append(U[i]+ U4[i])\n",
    "print(U5)"
   ]
  },
  {
   "cell_type": "markdown",
   "metadata": {},
   "source": [
    "Le code ci dessus ne fonctionnera pas car U4 a plus de valeurs que U. U5[6] = 7 mais U[6] n'existe pas.\n"
   ]
  },
  {
   "cell_type": "markdown",
   "metadata": {},
   "source": [
    "Pour aller plus loin :\n",
    "    https://python.doctor/page-apprendre-listes-list-tableaux-tableaux-liste-array-python-cours-debutant"
   ]
  },
  {
   "cell_type": "markdown",
   "metadata": {},
   "source": [
    "### <font color=\"blue\" > manipuler les tableaux numpy.<font>  "
   ]
  },
  {
   "cell_type": "code",
   "execution_count": 21,
   "metadata": {},
   "outputs": [
    {
     "name": "stdout",
     "output_type": "stream",
     "text": [
      "[0.      0.0075  0.0155  0.02    0.02475 0.0302 ]\n"
     ]
    }
   ],
   "source": [
    "I1 = U1/R\n",
    "print(I1)"
   ]
  },
  {
   "cell_type": "markdown",
   "metadata": {},
   "source": [
    " La ligne de code I1 = U1/R  permet directement de créer une serie de valeurs de I1. \n",
    " Cette méthode est plus simple pour créer des séries de valeurs avec un nombre de valeurs identiques que la série initiale."
   ]
  },
  {
   "cell_type": "code",
   "execution_count": null,
   "metadata": {},
   "outputs": [],
   "source": [
    "U7 = np.array(U4)\n",
    "I2 = (U1+U7)/R\n",
    "print(I2)"
   ]
  },
  {
   "cell_type": "markdown",
   "metadata": {},
   "source": [
    "Le code ci dessus ne fonctionnera pas les deux tableaux U2 et U7 n'ont pas le même nombre de valeurs"
   ]
  },
  {
   "cell_type": "markdown",
   "metadata": {},
   "source": [
    "Pour aller plus loin :\n",
    "    https://pyspc.readthedocs.io/fr/latest/05-bases/08-tableaux_numpy.html"
   ]
  },
  {
   "cell_type": "code",
   "execution_count": null,
   "metadata": {},
   "outputs": [],
   "source": []
  }
 ],
 "metadata": {
  "kernelspec": {
   "display_name": "Python 3",
   "language": "python",
   "name": "python3"
  },
  "language_info": {
   "codemirror_mode": {
    "name": "ipython",
    "version": 3
   },
   "file_extension": ".py",
   "mimetype": "text/x-python",
   "name": "python",
   "nbconvert_exporter": "python",
   "pygments_lexer": "ipython3",
   "version": "3.7.3"
  }
 },
 "nbformat": 4,
 "nbformat_minor": 2
}
