{
 "cells": [
  {
   "cell_type": "markdown",
   "metadata": {},
   "source": [
    "# <div class=\"alert alert-info\" role=\"alert\"> Aide 2 : créer des fonctions"
   ]
  },
  {
   "cell_type": "markdown",
   "metadata": {},
   "source": [
    "Une fonction est un morceau de code, complexe ou non, que l'on crée pour alléger le code python et gérer des parties répétitives."
   ]
  },
  {
   "cell_type": "code",
   "metadata": {},
   "source": [
    "def calcul (a,b):\n",
    "    L= (a+b) / (a-b)\n",
    "    return(L)\n",
    "c= calcul(5,7)\n",
    "print(c)"
   ]
  },
  {
   "cell_type": "markdown",
   "metadata": {},
   "source": [
    "* une fonction se déclare avec def\n",
    "* on lui donne un nom ( ici calcul)\n",
    "* on déclare entre parenthèses tous les variables utiles au déroulement du programme\n",
    "* on écrit le code de la fonction\n",
    "* cette fonction peut sortir une variable que l'on désire récupérer"
   ]
  },
  {
   "cell_type": "code",
   "execution_count": null,
   "metadata": {},
   "outputs": [],
   "source": [
    "# on peut faire appel plusieurs fois à la fonction\n",
    "c= calcul(5,7)\n",
    "d= calcul(2,3)\n",
    "e=calcul(7,5)\n",
    "print(c,d,e)"
   ]
  },
  {
   "cell_type": "code",
   "execution_count": null,
   "metadata": {},
   "outputs": [],
   "source": [
    "#pour alléger le code , on peut le faire aussi sur une seule ligne\n",
    "f,g,h =calcul(5,7),calcul(2,3),calcul(7,5)\n",
    "print(f,g,h)"
   ]
  },
  {
   "cell_type": "markdown",
   "metadata": {},
   "source": [
    "Une fonction peut aussi éxecuter un code sans renvoyer de valeurs"
   ]
  },
  {
   "cell_type": "code",
   "execution_count": null,
   "metadata": {},
   "outputs": [],
   "source": [
    "def ligneÉtoiles():\n",
    "    for iCol in range(40):\n",
    "        print(\"*\", end = \"\")\n",
    "    print()\n",
    "ligneÉtoiles()"
   ]
  },
  {
   "cell_type": "markdown",
   "metadata": {},
   "source": [
    "Une fonction peut aussi demander de rentrer une valeur"
   ]
  },
  {
   "cell_type": "code",
   "execution_count": null,
   "metadata": {},
   "outputs": [],
   "source": [
    "def ligneÉtoiles():\n",
    "    nombre = int(input(\"combien voulez vous d'étoiles: \"))\n",
    "    for iCol in range(nombre):\n",
    "        print(\"*\", end = \"\")\n",
    "    print()\n",
    "ligneÉtoiles()\n"
   ]
  },
  {
   "cell_type": "markdown",
   "metadata": {},
   "source": [
    "#### <font color=\"red\" > votre première fonction <font>\n",
    "\n",
    "créer une fonction qui :  \n",
    "* utilise trois décimaux\n",
    "\n",
    "* effectue deux calculs avec ces décimaux\n",
    "\n",
    "puis tester votre fonction"
   ]
  },
  {
   "cell_type": "code",
   "execution_count": null,
   "metadata": {},
   "outputs": [],
   "source": []
  }
 ],
 "metadata": {
  "kernelspec": {
   "display_name": "Python 3",
   "language": "python",
   "name": "python3"
  },
  "language_info": {
   "codemirror_mode": {
    "name": "ipython",
    "version": 3
   },
   "file_extension": ".py",
   "mimetype": "text/x-python",
   "name": "python",
   "nbconvert_exporter": "python",
   "pygments_lexer": "ipython3",
   "version": "3.7.3"
  }
 },
 "nbformat": 4,
 "nbformat_minor": 2
}
