{
 "cells": [
  {
   "cell_type": "markdown",
   "metadata": {},
   "source": [
    "# <div class=\"alert alert-info\" role=\"alert\"> Aide 1 : demander des valeurs : input"
   ]
  },
  {
   "cell_type": "markdown",
   "metadata": {},
   "source": [
    "Exécuter la cellule"
   ]
  },
  {
   "cell_type": "code",
   "execution_count": null,
   "metadata": {},
   "outputs": [],
   "source": [
    "print(\"donner une valeur \")\n",
    "a =(input('la valeur est  :'))\n",
    "print(\"donner une autre  valeur \")\n",
    "b =(input('la valeur est  :'))\n",
    "c= a+b\n",
    "print(c)\n",
    "type(c)\n"
   ]
  },
  {
   "cell_type": "markdown",
   "metadata": {},
   "source": [
    "Les valeurs rentrées avec input sont reconnues comme des chaines de caractères et non des nombres. L'addition a bien été faite mais le programme a juste ajouté les caractères. Il faut indiquer quel type de valeur on veut rentrer.\n",
    "* str : chaines de caractère ( par défaut)\n",
    "* float : décimaux\n",
    "* int : entier\n",
    "* list : une liste\n",
    "* bool : boléen  \n",
    "la liste est longue\n"
   ]
  },
  {
   "cell_type": "markdown",
   "metadata": {},
   "source": [
    "Exécuter la cellule ci dessous.  \n",
    "Refaire une éxécution et essayer de  rentrer des lettres"
   ]
  },
  {
   "cell_type": "code",
   "execution_count": null,
   "metadata": {},
   "outputs": [],
   "source": [
    "print(\"donner une valeur \")\n",
    "a = float(input('la valeur est  :'))\n",
    "print(\"donner une autre  valeur \")\n",
    "b =float(input('la valeur est  :'))\n",
    "c= a+b\n",
    "print(c)\n",
    "type(c)\n"
   ]
  },
  {
   "cell_type": "markdown",
   "metadata": {},
   "source": [
    "Recopier le code et le coller ci dessous. Le modifier pour qu'il rentre des entiers."
   ]
  },
  {
   "cell_type": "code",
   "execution_count": null,
   "metadata": {},
   "outputs": [],
   "source": []
  }
 ],
 "metadata": {
  "kernelspec": {
   "display_name": "Python 3",
   "language": "python",
   "name": "python3"
  },
  "language_info": {
   "codemirror_mode": {
    "name": "ipython",
    "version": 3
   },
   "file_extension": ".py",
   "mimetype": "text/x-python",
   "name": "python",
   "nbconvert_exporter": "python",
   "pygments_lexer": "ipython3",
   "version": "3.7.3"
  }
 },
 "nbformat": 4,
 "nbformat_minor": 2
}
